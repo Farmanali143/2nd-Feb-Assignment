{
 "cells": [
  {
   "cell_type": "code",
   "execution_count": null,
   "id": "7bc5b88b-4e9f-4574-a545-37e8947a22e6",
   "metadata": {},
   "outputs": [],
   "source": [
    "Q1. Explain with an example each when to use a for loop and a while loop?"
   ]
  },
  {
   "cell_type": "code",
   "execution_count": null,
   "id": "5d244755-66c9-4908-818e-76a553fdfea4",
   "metadata": {},
   "outputs": [],
   "source": [
    "Ans 1. For loops are used when you have a known number of iterations or when you want to iterate \n",
    "through a sequence (list, tuple, string, etc.) to perform an action for each item in the sequence."
   ]
  },
  {
   "cell_type": "code",
   "execution_count": null,
   "id": "7f68f710-9f5b-49c8-9fc4-68a5bb495886",
   "metadata": {},
   "outputs": [],
   "source": [
    "Below is the example of for loop :"
   ]
  },
  {
   "cell_type": "code",
   "execution_count": 1,
   "id": "52f258b7-b482-4f71-bfa7-2b2d0e0b77e3",
   "metadata": {},
   "outputs": [
    {
     "name": "stdout",
     "output_type": "stream",
     "text": [
      "0\n",
      "1\n",
      "2\n",
      "3\n",
      "4\n",
      "5\n",
      "6\n",
      "7\n",
      "8\n",
      "9\n"
     ]
    }
   ],
   "source": [
    "# print the numbers 0 to 9\n",
    "for i in range(10):\n",
    "    print(i)\n"
   ]
  },
  {
   "cell_type": "code",
   "execution_count": null,
   "id": "22f12a82-9759-43a0-bb20-7f6cbc974d63",
   "metadata": {},
   "outputs": [],
   "source": [
    "While loops are used when you want to keep executing a block of code as long as a certain condition is met."
   ]
  },
  {
   "cell_type": "code",
   "execution_count": null,
   "id": "b80f1d3a-7f01-4a64-923c-79d448d010d2",
   "metadata": {},
   "outputs": [],
   "source": [
    "Below is the example of while loop :"
   ]
  },
  {
   "cell_type": "code",
   "execution_count": 2,
   "id": "ae6740a6-0583-439e-98cc-0f8c7c2bb616",
   "metadata": {},
   "outputs": [
    {
     "name": "stdout",
     "output_type": "stream",
     "text": [
      "0\n",
      "1\n",
      "2\n",
      "3\n",
      "4\n",
      "5\n",
      "6\n",
      "7\n",
      "8\n",
      "9\n"
     ]
    }
   ],
   "source": [
    "# print the numbers 0 to 9\n",
    "i = 0\n",
    "while i < 10:\n",
    "    print(i)\n",
    "    i += 1"
   ]
  },
  {
   "cell_type": "code",
   "execution_count": null,
   "id": "b7f0050f-40b1-4442-bb11-c2ce8cee818e",
   "metadata": {},
   "outputs": [],
   "source": [
    "It is important to keep in mind that while loops can lead to infinite loops if the termination condition \n",
    "is never met, so it's crucial to make sure that the condition eventually becomes false."
   ]
  },
  {
   "cell_type": "code",
   "execution_count": null,
   "id": "367933e7-bc75-4c45-8ee8-01e47a2df536",
   "metadata": {},
   "outputs": [],
   "source": [
    "Q2. Write a python program to print the sum and product of the first 10 natural numbers using for and while loop?"
   ]
  },
  {
   "cell_type": "code",
   "execution_count": null,
   "id": "cce25ae6-3fd7-4c78-a7e1-946286b99879",
   "metadata": {},
   "outputs": [],
   "source": [
    "Ans2. Here's an example using a for loop to print the sum and product of the first 10 natural numbers:"
   ]
  },
  {
   "cell_type": "code",
   "execution_count": 3,
   "id": "ef4d1180-3dd5-4f53-a99a-f07929a1e3f7",
   "metadata": {},
   "outputs": [
    {
     "name": "stdout",
     "output_type": "stream",
     "text": [
      "The sum of the first 10 natural numbers is: 55\n",
      "The product of the first 10 natural numbers is: 3628800\n"
     ]
    }
   ],
   "source": [
    "sum = 0\n",
    "product = 1\n",
    "\n",
    "for i in range(1, 11):\n",
    "    sum += i\n",
    "    product *= i\n",
    "\n",
    "print(\"The sum of the first 10 natural numbers is:\", sum)\n",
    "print(\"The product of the first 10 natural numbers is:\", product)"
   ]
  },
  {
   "cell_type": "code",
   "execution_count": null,
   "id": "ede67495-c02b-4234-8e2b-1608fc19cdcf",
   "metadata": {},
   "outputs": [],
   "source": [
    "And here's an example using a while loop:"
   ]
  },
  {
   "cell_type": "code",
   "execution_count": 4,
   "id": "58ce731b-0085-4555-b89f-562fb396dfc0",
   "metadata": {},
   "outputs": [
    {
     "name": "stdout",
     "output_type": "stream",
     "text": [
      "The sum of the first 10 natural numbers is: 55\n",
      "The product of the first 10 natural numbers is: 3628800\n"
     ]
    }
   ],
   "source": [
    "sum = 0\n",
    "product = 1\n",
    "i = 1\n",
    "\n",
    "while i <= 10:\n",
    "    sum += i\n",
    "    product *= i\n",
    "    i += 1\n",
    "\n",
    "print(\"The sum of the first 10 natural numbers is:\", sum)\n",
    "print(\"The product of the first 10 natural numbers is:\", product)"
   ]
  },
  {
   "cell_type": "code",
   "execution_count": null,
   "id": "2a1eeebd-fb63-4bf7-8e14-aa353b5dad94",
   "metadata": {},
   "outputs": [],
   "source": [
    "Q3. Create a python program to compute the electricity bill for a household. \n",
    "The per-unit charges in rupees are as follows: For the first 100 units, the user\n",
    "will be charged Rs. 4.5 per unit, for the next 100 units, the user will be charged Rs. 6 per unit,\n",
    "and for the next 100 units, the user will be charged Rs. 10 per unit, After 300 units and \n",
    "above the user will be charged Rs. 20 per unit. You are required to take the units of\n",
    "electricity consumed in a month from the user as input. Your program must pass this test case: when \n",
    "the unit of electricity consumed by the user in a month is 310, the total electricity bill should be 2250."
   ]
  },
  {
   "cell_type": "code",
   "execution_count": null,
   "id": "fe4ec505-8dab-4431-8951-69cd64e42937",
   "metadata": {},
   "outputs": [],
   "source": [
    "Ans3. Below is the code for the same:"
   ]
  },
  {
   "cell_type": "code",
   "execution_count": 5,
   "id": "89bfbe2d-d5e9-483a-98b3-f6e5feb14bc9",
   "metadata": {},
   "outputs": [
    {
     "name": "stdin",
     "output_type": "stream",
     "text": [
      "Enter the units of electricity consumed:  310\n"
     ]
    },
    {
     "name": "stdout",
     "output_type": "stream",
     "text": [
      "The total electricity bill is: Rs. 2250.0\n"
     ]
    }
   ],
   "source": [
    "units = int(input(\"Enter the units of electricity consumed: \"))\n",
    "\n",
    "if units <= 100:\n",
    "    bill = units * 4.5\n",
    "elif units <= 200:\n",
    "    bill = 100 * 4.5 + (units - 100) * 6\n",
    "elif units <= 300:\n",
    "    bill = 100 * 4.5 + 100 * 6 + (units - 200) * 10\n",
    "else:\n",
    "    bill = 100 * 4.5 + 100 * 6 + 100 * 10 + (units - 300) * 20\n",
    "\n",
    "print(\"The total electricity bill is: Rs.\", bill)"
   ]
  },
  {
   "cell_type": "code",
   "execution_count": null,
   "id": "e4b3e167-cfd7-4818-9043-2636e6638dad",
   "metadata": {},
   "outputs": [],
   "source": [
    "Q4. Create a list of numbers from 1 to 100. Use for loop and while loop to calculate the\n",
    "cube of each number and if the cube of that number is divisible by 4 or 5 then append that \n",
    "number in a list and print that list."
   ]
  },
  {
   "cell_type": "code",
   "execution_count": null,
   "id": "dd3ff337-a820-4ea3-814a-beae0da16b8b",
   "metadata": {},
   "outputs": [],
   "source": [
    "Ans4. Below is the code using for loop:"
   ]
  },
  {
   "cell_type": "code",
   "execution_count": 6,
   "id": "aa3851fa-b936-442a-893b-fca43442c010",
   "metadata": {},
   "outputs": [
    {
     "name": "stdout",
     "output_type": "stream",
     "text": [
      "The list of cubes that are divisible by 4 or 5: [8, 64, 125, 216, 512, 1000, 1728, 2744, 3375, 4096, 5832, 8000, 10648, 13824, 15625, 17576, 21952, 27000, 32768, 39304, 42875, 46656, 54872, 64000, 74088, 85184, 91125, 97336, 110592, 125000, 140608, 157464, 166375, 175616, 195112, 216000, 238328, 262144, 274625, 287496, 314432, 343000, 373248, 405224, 421875, 438976, 474552, 512000, 551368, 592704, 614125, 636056, 681472, 729000, 778688, 830584, 857375, 884736, 941192, 1000000]\n"
     ]
    }
   ],
   "source": [
    "numbers = []\n",
    "cube_divisible = []\n",
    "\n",
    "for i in range(1, 101):\n",
    "    numbers.append(i)\n",
    "    cube = i ** 3\n",
    "    if cube % 4 == 0 or cube % 5 == 0:\n",
    "        cube_divisible.append(cube)\n",
    "\n",
    "print(\"The list of cubes that are divisible by 4 or 5:\", cube_divisible)"
   ]
  },
  {
   "cell_type": "code",
   "execution_count": null,
   "id": "139cbca9-0978-4308-b708-36837ae0adb6",
   "metadata": {},
   "outputs": [],
   "source": [
    "And here is the same program using a while loop:"
   ]
  },
  {
   "cell_type": "code",
   "execution_count": 7,
   "id": "a3461831-f91c-4bd1-9d0d-5a7351969a4f",
   "metadata": {},
   "outputs": [
    {
     "name": "stdout",
     "output_type": "stream",
     "text": [
      "The list of cubes that are divisible by 4 or 5: [8, 64, 125, 216, 512, 1000, 1728, 2744, 3375, 4096, 5832, 8000, 10648, 13824, 15625, 17576, 21952, 27000, 32768, 39304, 42875, 46656, 54872, 64000, 74088, 85184, 91125, 97336, 110592, 125000, 140608, 157464, 166375, 175616, 195112, 216000, 238328, 262144, 274625, 287496, 314432, 343000, 373248, 405224, 421875, 438976, 474552, 512000, 551368, 592704, 614125, 636056, 681472, 729000, 778688, 830584, 857375, 884736, 941192, 1000000]\n"
     ]
    }
   ],
   "source": [
    "numbers = []\n",
    "cube_divisible = []\n",
    "i = 1\n",
    "\n",
    "while i <= 100:\n",
    "    numbers.append(i)\n",
    "    cube = i ** 3\n",
    "    if cube % 4 == 0 or cube % 5 == 0:\n",
    "        cube_divisible.append(cube)\n",
    "    i += 1\n",
    "\n",
    "print(\"The list of cubes that are divisible by 4 or 5:\", cube_divisible)"
   ]
  },
  {
   "cell_type": "code",
   "execution_count": null,
   "id": "e0bdea25-c5d2-48a1-a2d5-be229ae87c93",
   "metadata": {},
   "outputs": [],
   "source": [
    "Both programs will produce the same output, which is the list of cubes of the numbers \n",
    "from 1 to 100 that are divisible by 4 or 5."
   ]
  },
  {
   "cell_type": "code",
   "execution_count": null,
   "id": "06ad7608-61d3-4143-a559-3b763fe355d4",
   "metadata": {},
   "outputs": [],
   "source": [
    "Q5. Write a program to filter count vowels in the below-given string. string = \"I want to become a data scientist\""
   ]
  },
  {
   "cell_type": "code",
   "execution_count": null,
   "id": "0977543d-8f23-4ef7-8d7b-f529dc251d3d",
   "metadata": {},
   "outputs": [],
   "source": [
    "Ans5. Below is the code for the same:"
   ]
  },
  {
   "cell_type": "code",
   "execution_count": 8,
   "id": "956618a4-c6b2-4322-a2d9-da3c018fb154",
   "metadata": {},
   "outputs": [
    {
     "name": "stdout",
     "output_type": "stream",
     "text": [
      "The number of vowels in the string is: 12\n"
     ]
    }
   ],
   "source": [
    "string = \"I want to become a data scientist\"\n",
    "vowels = \"aeiouAEIOU\"\n",
    "count = 0\n",
    "\n",
    "for char in string:\n",
    "    if char in vowels:\n",
    "        count += 1\n",
    "\n",
    "print(\"The number of vowels in the string is:\", count)"
   ]
  },
  {
   "cell_type": "code",
   "execution_count": null,
   "id": "5d50d4b3-4ce6-4ab0-bae7-4b7b3c0e1bcc",
   "metadata": {},
   "outputs": [],
   "source": []
  }
 ],
 "metadata": {
  "kernelspec": {
   "display_name": "Python 3 (ipykernel)",
   "language": "python",
   "name": "python3"
  },
  "language_info": {
   "codemirror_mode": {
    "name": "ipython",
    "version": 3
   },
   "file_extension": ".py",
   "mimetype": "text/x-python",
   "name": "python",
   "nbconvert_exporter": "python",
   "pygments_lexer": "ipython3",
   "version": "3.10.8"
  }
 },
 "nbformat": 4,
 "nbformat_minor": 5
}
